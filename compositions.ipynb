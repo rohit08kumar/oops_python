{
 "cells": [
  {
   "cell_type": "markdown",
   "id": "9522ce65",
   "metadata": {},
   "source": [
    "# Inheritance vs. Composition"
   ]
  },
  {
   "cell_type": "markdown",
   "id": "0b367b34",
   "metadata": {},
   "source": [
    "## Inheritance: \"Is-A\" Relationship\n",
    "Inheritance implies that a child class is a specialized version of the parent class\n",
    "\n",
    "### ✅ Use inheritance when:\n",
    "\n",
    "There is a clear hierarchy.\n",
    "\n",
    "The child class is-a type of the parent.\n",
    "\n",
    "You want to override or extend base behavior."
   ]
  },
  {
   "cell_type": "code",
   "execution_count": 1,
   "id": "a22bc1b0",
   "metadata": {},
   "outputs": [],
   "source": [
    "class Animal:\n",
    "    def speak(self):\n",
    "        print(\"Animal speaks\")\n",
    "\n",
    "class Dog(Animal):  # Dog IS an Animal\n",
    "    def speak(self):\n",
    "        print(\"Bark!\")\n"
   ]
  },
  {
   "cell_type": "markdown",
   "id": "a34c9bb7",
   "metadata": {},
   "source": [
    "## Composition: \"Has-A\" Relationship\n",
    "Composition means that a class has another class as a component. It uses that class rather than being derived from it.\n",
    "\n",
    "### ✅ Use composition when:\n",
    "\n",
    "Classes are independent and don’t form a natural hierarchy.\n",
    "\n",
    "You want to combine behaviors without tight coupling.\n",
    "\n",
    "You want to reuse functionality flexibly.\n",
    "\n"
   ]
  },
  {
   "cell_type": "code",
   "execution_count": 2,
   "id": "d2210680",
   "metadata": {},
   "outputs": [],
   "source": [
    "class Engine:\n",
    "    def start(self):\n",
    "        print(\"Engine starts\")\n",
    "\n",
    "class Car:\n",
    "    def __init__(self):\n",
    "        self.engine = Engine()  # Car HAS an Engine\n",
    "\n",
    "    def start(self):\n",
    "        self.engine.start()\n",
    "        print(\"Car is ready to go!\")\n"
   ]
  },
  {
   "cell_type": "markdown",
   "id": "981c14f7",
   "metadata": {},
   "source": [
    "## 🚨 Why Not Always Use Inheritance?\n",
    "Inheritance tightly couples the child to the parent:\n",
    "\n",
    "- If you change the parent, all children are affected.\n",
    "- You get rigid structures that are hard to refactor.\n",
    "- It can lead to fragile code — especially with multiple inheritance, where MRO conflicts or diamond problems can occur."
   ]
  },
  {
   "cell_type": "markdown",
   "id": "b85ed166",
   "metadata": {},
   "source": [
    "## ✅ When to Use Composition Instead\n",
    "🧪 Example: Inheritance Gone Wrong\n",
    "Imagine you have these classes:\n",
    "\n"
   ]
  },
  {
   "cell_type": "code",
   "execution_count": 5,
   "id": "1a3583e3",
   "metadata": {},
   "outputs": [],
   "source": [
    "class Flyable:\n",
    "    def fly(self):\n",
    "        print(\"I can fly\")\n",
    "\n",
    "class Swimmable:\n",
    "    def swim(self):\n",
    "        print(\"I can swim\")\n",
    "\n",
    "# You try to create a Duck with multiple inheritance\n",
    "class Duck(Flyable, Swimmable):\n",
    "    def quack(self):\n",
    "        print(\"Quack\")\n",
    "\n",
    "# This might work, but it tightly binds Duck to Flyable and Swimmable."
   ]
  },
  {
   "cell_type": "markdown",
   "id": "e86ac84a",
   "metadata": {},
   "source": [
    "## ✅ Better with Composition:"
   ]
  },
  {
   "cell_type": "code",
   "execution_count": 6,
   "id": "5500f36c",
   "metadata": {},
   "outputs": [],
   "source": [
    "class Flyable:\n",
    "    def fly(self):\n",
    "        print(\"I can fly\")\n",
    "\n",
    "class Swimmable:\n",
    "    def swim(self):\n",
    "        print(\"I can swim\")\n",
    "\n",
    "class Duck:\n",
    "    def __init__(self):\n",
    "        self.fly_behavior = Flyable()\n",
    "        self.swim_behavior = Swimmable()\n",
    "\n",
    "    def quack(self):\n",
    "        print(\"Quack\")\n",
    "\n",
    "    def swim(self):\n",
    "        self.swim_behavior.swim()\n",
    "\n",
    "    def fly(self):\n",
    "        self.fly_behavior.fly()\n"
   ]
  },
  {
   "cell_type": "markdown",
   "id": "78935557",
   "metadata": {},
   "source": [
    "🎯 Benefits:\n",
    "\n",
    "Now Duck has fly and swim abilities, but isn't tightly coupled to their implementation.\n",
    "\n",
    "You can easily replace or extend the behaviors:"
   ]
  },
  {
   "cell_type": "code",
   "execution_count": 7,
   "id": "f4d0cab7",
   "metadata": {},
   "outputs": [
    {
     "name": "stdout",
     "output_type": "stream",
     "text": [
      "I can't fly\n"
     ]
    }
   ],
   "source": [
    "class NoFly:\n",
    "    def fly(self):\n",
    "        print(\"I can't fly\")\n",
    "\n",
    "duck = Duck()\n",
    "duck.fly_behavior = NoFly()  # Replace flying behavior at runtime!\n",
    "duck.fly()  # Output: I can't fly\n"
   ]
  },
  {
   "cell_type": "markdown",
   "id": "e8d7f53b",
   "metadata": {},
   "source": [
    "## 🔧 Real-World Analogy\n",
    "#### 🧱 Composition is like building with LEGO:\n",
    "\n",
    "You build things out of smaller blocks (components).\n",
    "\n",
    "Easy to swap out one block with another.\n",
    "\n",
    "#### 🧬 Inheritance is like genetic traits:\n",
    "\n",
    "You can’t change them easily after birth.\n",
    "\n",
    "Your behavior is defined by your ancestry"
   ]
  },
  {
   "cell_type": "markdown",
   "id": "61f332a3",
   "metadata": {},
   "source": [
    "## ✅ Final Thoughts\n",
    "Prefer composition over inheritance when:\n",
    "\n",
    "There’s no natural \"is-a\" relationship.\n",
    "\n",
    "You need more flexibility.\n",
    "\n",
    "You want to avoid tight coupling and MRO issues "
   ]
  },
  {
   "cell_type": "markdown",
   "id": "4399ac28",
   "metadata": {},
   "source": []
  }
 ],
 "metadata": {
  "kernelspec": {
   "display_name": "Python 3",
   "language": "python",
   "name": "python3"
  },
  "language_info": {
   "codemirror_mode": {
    "name": "ipython",
    "version": 3
   },
   "file_extension": ".py",
   "mimetype": "text/x-python",
   "name": "python",
   "nbconvert_exporter": "python",
   "pygments_lexer": "ipython3",
   "version": "3.12.0"
  }
 },
 "nbformat": 4,
 "nbformat_minor": 5
}
